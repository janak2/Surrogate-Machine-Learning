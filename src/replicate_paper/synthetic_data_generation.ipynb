{
 "cells": [
  {
   "cell_type": "code",
   "execution_count": 1,
   "id": "6dd4d567",
   "metadata": {},
   "outputs": [],
   "source": [
    "import pybamm\n",
    "import numpy as np\n",
    "import pandas as pd\n",
    "import matplotlib.pyplot as plt"
   ]
  },
  {
   "cell_type": "markdown",
   "id": "ecfecf17",
   "metadata": {},
   "source": [
    "# Synthetic data generation - experimentation/set-up"
   ]
  },
  {
   "cell_type": "markdown",
   "id": "16a68681",
   "metadata": {},
   "source": [
    "### Define PDF"
   ]
  },
  {
   "cell_type": "code",
   "execution_count": 2,
   "id": "ce17e853",
   "metadata": {},
   "outputs": [],
   "source": [
    "# Define the triangle probability density function for T\n",
    "def triangle_pdf(I, Imax):\n",
    "    if I < 0 or I > Imax:\n",
    "        return 0\n",
    "    else:\n",
    "        return (Imax - I) / (Imax ** 2)"
   ]
  },
  {
   "cell_type": "code",
   "execution_count": 3,
   "id": "4adc1a81",
   "metadata": {},
   "outputs": [
    {
     "data": {
      "text/plain": [
       "Text(0, 0.5, 'f(I)')"
      ]
     },
     "execution_count": 3,
     "metadata": {},
     "output_type": "execute_result"
    },
    {
     "data": {
      "image/png": "[encoded data removed]",
      "text/plain": [
       "<Figure size 640x480 with 1 Axes>"
      ]
     },
     "metadata": {},
     "output_type": "display_data"
    }
   ],
   "source": [
    "# Sanity check for triangular pdf\n",
    "x = np.linspace(0,100)\n",
    "f = lambda z: triangle_pdf(z,100)\n",
    "v = np.vectorize(f)\n",
    "y = v(x)\n",
    "plt.plot(x, y)\n",
    "plt.xlabel('I')\n",
    "plt.ylabel('f(I)')"
   ]
  },
  {
   "cell_type": "markdown",
   "id": "32991cb5",
   "metadata": {},
   "source": [
    "### Custom current function"
   ]
  },
  {
   "cell_type": "code",
   "execution_count": 4,
   "id": "c6144513",
   "metadata": {},
   "outputs": [],
   "source": [
    "np.random.seed = 42"
   ]
  },
  {
   "cell_type": "code",
   "execution_count": 5,
   "id": "ff16979c",
   "metadata": {},
   "outputs": [],
   "source": [
    "# Sample Ij values from the triangle pdf\n",
    "def sample_Ij(Imax):\n",
    "    I = np.linspace(0, Imax, 10000)\n",
    "    return np.random.choice(I, p=[triangle_pdf(x, Imax) for x in I]/sum([triangle_pdf(x, Imax) for x in I]))"
   ]
  },
  {
   "cell_type": "code",
   "execution_count": 6,
   "id": "f386d164",
   "metadata": {},
   "outputs": [],
   "source": [
    "# Define custom current function\n",
    "def custom_current(I_values, M):\n",
    "    def current(t):\n",
    "        I_piecewise = 0\n",
    "        for j in range(M):\n",
    "            t1, t2 = j * 100, (j + 1) * 100\n",
    "            I1, I2 = I_values[j], I_values[j + 1]\n",
    "            I_current_interval = I1 + (I2 - I1) * (t - t1) / (t2 - t1)\n",
    "        return I_current_interval\n",
    "    return current"
   ]
  },
  {
   "cell_type": "markdown",
   "id": "2954b2de",
   "metadata": {},
   "source": [
    "### Model set up"
   ]
  },
  {
   "cell_type": "code",
   "execution_count": 7,
   "id": "3083d361",
   "metadata": {},
   "outputs": [],
   "source": [
    "# Set up the PyBaMM simulation\n",
    "model = pybamm.lithium_ion.SPM()\n",
    "parameter_values = model.default_parameter_values\n",
    "Imax = parameter_values[\"Current function [A]\"]"
   ]
  },
  {
   "cell_type": "code",
   "execution_count": 8,
   "id": "975f1f57",
   "metadata": {
    "scrolled": true
   },
   "outputs": [
    {
     "name": "stdout",
     "output_type": "stream",
     "text": [
      "3.105 4.1\n"
     ]
    }
   ],
   "source": [
    "V_min = parameter_values['Lower voltage cut-off [V]']\n",
    "V_max = parameter_values['Upper voltage cut-off [V]']\n",
    "print(V_min, V_max)"
   ]
  },
  {
   "cell_type": "code",
   "execution_count": 9,
   "id": "45a88ab5",
   "metadata": {},
   "outputs": [],
   "source": [
    "model.events.append(pybamm.Event('Minimum voltage', model.variables['Terminal voltage [V]'] - V_min, pybamm.EventType.TERMINATION))\n",
    "model.events.append(pybamm.Event('Maximum voltage', V_max - model.variables['Terminal voltage [V]'], pybamm.EventType.TERMINATION))"
   ]
  },
  {
   "cell_type": "code",
   "execution_count": 10,
   "id": "6bd21961",
   "metadata": {},
   "outputs": [
    {
     "data": {
      "text/plain": [
       "{'1 + dlnf/dlnc': 1.0,\n",
       " 'Ambient temperature [K]': 298.15,\n",
       " 'Bulk solvent concentration [mol.m-3]': 2636.0,\n",
       " 'Cation transference number': 0.4,\n",
       " 'Cell cooling surface area [m2]': 0.0569,\n",
       " 'Cell volume [m3]': 7.8e-06,\n",
       " 'Contact resistance [Ohm]': 0,\n",
       " 'Current function [A]': 0.680616,\n",
       " 'EC diffusivity [m2.s-1]': 2e-18,\n",
       " 'EC initial concentration in electrolyte [mol.m-3]': 4541.0,\n",
       " 'Edge heat transfer coefficient [W.m-2.K-1]': 0.3,\n",
       " 'Electrode height [m]': 0.137,\n",
       " 'Electrode width [m]': 0.207,\n",
       " 'Electrolyte conductivity [S.m-1]': <function electrolyte_conductivity_Capiglia1999 at 0x12da558b0>,\n",
       " 'Electrolyte diffusivity [m2.s-1]': <function electrolyte_diffusivity_Capiglia1999 at 0x12da55820>,\n",
       " 'Initial concentration in electrolyte [mol.m-3]': 1000.0,\n",
       " 'Initial concentration in negative electrode [mol.m-3]': 19986.609595075,\n",
       " 'Initial concentration in positive electrode [mol.m-3]': 30730.7554385565,\n",
       " 'Initial inner SEI thickness [m]': 2.5e-09,\n",
       " 'Initial outer SEI thickness [m]': 2.5e-09,\n",
       " 'Initial temperature [K]': 298.15,\n",
       " 'Inner SEI electron conductivity [S.m-1]': 8.95e-14,\n",
       " 'Inner SEI lithium interstitial diffusivity [m2.s-1]': 1e-20,\n",
       " 'Inner SEI open-circuit potential [V]': 0.1,\n",
       " 'Inner SEI partial molar volume [m3.mol-1]': 9.585e-05,\n",
       " 'Inner SEI reaction proportion': 0.5,\n",
       " 'Lithium interstitial reference concentration [mol.m-3]': 15.0,\n",
       " 'Lower voltage cut-off [V]': 3.105,\n",
       " 'Maximum concentration in negative electrode [mol.m-3]': 24983.2619938437,\n",
       " 'Maximum concentration in positive electrode [mol.m-3]': 51217.9257309275,\n",
       " 'Negative current collector conductivity [S.m-1]': 59600000.0,\n",
       " 'Negative current collector density [kg.m-3]': 8954.0,\n",
       " 'Negative current collector specific heat capacity [J.kg-1.K-1]': 385.0,\n",
       " 'Negative current collector surface heat transfer coefficient [W.m-2.K-1]': 0.0,\n",
       " 'Negative current collector thermal conductivity [W.m-1.K-1]': 401.0,\n",
       " 'Negative current collector thickness [m]': 2.5e-05,\n",
       " 'Negative electrode Bruggeman coefficient (electrode)': 1.5,\n",
       " 'Negative electrode Bruggeman coefficient (electrolyte)': 1.5,\n",
       " 'Negative electrode OCP [V]': <function graphite_mcmb2528_ocp_Dualfoil1998 at 0x12da55160>,\n",
       " 'Negative electrode OCP entropic change [V.K-1]': <function graphite_entropic_change_Moura2016 at 0x12da55040>,\n",
       " 'Negative electrode active material volume fraction': 0.6,\n",
       " 'Negative electrode cation signed stoichiometry': -1.0,\n",
       " 'Negative electrode charge transfer coefficient': 0.5,\n",
       " 'Negative electrode conductivity [S.m-1]': 100.0,\n",
       " 'Negative electrode density [kg.m-3]': 1657.0,\n",
       " 'Negative electrode diffusivity [m2.s-1]': <function graphite_mcmb2528_diffusivity_Dualfoil1998 at 0x12da55280>,\n",
       " 'Negative electrode double-layer capacity [F.m-2]': 0.2,\n",
       " 'Negative electrode electrons in reaction': 1.0,\n",
       " 'Negative electrode exchange-current density [A.m-2]': <function graphite_electrolyte_exchange_current_density_Dualfoil1998 at 0x12da550d0>,\n",
       " 'Negative electrode porosity': 0.3,\n",
       " 'Negative electrode reaction-driven LAM factor [m3.mol-1]': 0.0,\n",
       " 'Negative electrode specific heat capacity [J.kg-1.K-1]': 700.0,\n",
       " 'Negative electrode thermal conductivity [W.m-1.K-1]': 1.7,\n",
       " 'Negative electrode thickness [m]': 0.0001,\n",
       " 'Negative particle radius [m]': 1e-05,\n",
       " 'Negative tab centre y-coordinate [m]': 0.06,\n",
       " 'Negative tab centre z-coordinate [m]': 0.137,\n",
       " 'Negative tab heat transfer coefficient [W.m-2.K-1]': 10.0,\n",
       " 'Negative tab width [m]': 0.04,\n",
       " 'Nominal cell capacity [A.h]': 0.680616,\n",
       " 'Number of cells connected in series to make a battery': 1.0,\n",
       " 'Number of electrodes connected in parallel to make a cell': 1.0,\n",
       " 'Outer SEI open-circuit potential [V]': 0.8,\n",
       " 'Outer SEI partial molar volume [m3.mol-1]': 9.585e-05,\n",
       " 'Outer SEI solvent diffusivity [m2.s-1]': 2.5000000000000002e-22,\n",
       " 'Positive current collector conductivity [S.m-1]': 35500000.0,\n",
       " 'Positive current collector density [kg.m-3]': 2707.0,\n",
       " 'Positive current collector specific heat capacity [J.kg-1.K-1]': 897.0,\n",
       " 'Positive current collector surface heat transfer coefficient [W.m-2.K-1]': 0.0,\n",
       " 'Positive current collector thermal conductivity [W.m-1.K-1]': 237.0,\n",
       " 'Positive current collector thickness [m]': 2.5e-05,\n",
       " 'Positive electrode Bruggeman coefficient (electrode)': 1.5,\n",
       " 'Positive electrode Bruggeman coefficient (electrolyte)': 1.5,\n",
       " 'Positive electrode OCP [V]': <function lico2_ocp_Dualfoil1998 at 0x12da55670>,\n",
       " 'Positive electrode OCP entropic change [V.K-1]': <function lico2_entropic_change_Moura2016 at 0x12da55790>,\n",
       " 'Positive electrode active material volume fraction': 0.5,\n",
       " 'Positive electrode cation signed stoichiometry': -1.0,\n",
       " 'Positive electrode charge transfer coefficient': 0.5,\n",
       " 'Positive electrode conductivity [S.m-1]': 10.0,\n",
       " 'Positive electrode density [kg.m-3]': 3262.0,\n",
       " 'Positive electrode diffusivity [m2.s-1]': <function lico2_diffusivity_Dualfoil1998 at 0x12da555e0>,\n",
       " 'Positive electrode double-layer capacity [F.m-2]': 0.2,\n",
       " 'Positive electrode electrons in reaction': 1.0,\n",
       " 'Positive electrode exchange-current density [A.m-2]': <function lico2_electrolyte_exchange_current_density_Dualfoil1998 at 0x12da55700>,\n",
       " 'Positive electrode porosity': 0.3,\n",
       " 'Positive electrode reaction-driven LAM factor [m3.mol-1]': 0.0,\n",
       " 'Positive electrode specific heat capacity [J.kg-1.K-1]': 700.0,\n",
       " 'Positive electrode thermal conductivity [W.m-1.K-1]': 2.1,\n",
       " 'Positive electrode thickness [m]': 0.0001,\n",
       " 'Positive particle radius [m]': 1e-05,\n",
       " 'Positive tab centre y-coordinate [m]': 0.147,\n",
       " 'Positive tab centre z-coordinate [m]': 0.137,\n",
       " 'Positive tab heat transfer coefficient [W.m-2.K-1]': 10.0,\n",
       " 'Positive tab width [m]': 0.04,\n",
       " 'Ratio of lithium moles to SEI moles': 2.0,\n",
       " 'Reference temperature [K]': 298.15,\n",
       " 'SEI growth activation energy [J.mol-1]': 0.0,\n",
       " 'SEI kinetic rate constant [m.s-1]': 1e-12,\n",
       " 'SEI open-circuit potential [V]': 0.4,\n",
       " 'SEI reaction exchange current density [A.m-2]': 1.5e-07,\n",
       " 'SEI resistivity [Ohm.m]': 200000.0,\n",
       " 'Separator Bruggeman coefficient (electrolyte)': 1.5,\n",
       " 'Separator density [kg.m-3]': 397.0,\n",
       " 'Separator porosity': 1.0,\n",
       " 'Separator specific heat capacity [J.kg-1.K-1]': 700.0,\n",
       " 'Separator thermal conductivity [W.m-1.K-1]': 0.16,\n",
       " 'Separator thickness [m]': 2.5e-05,\n",
       " 'Total heat transfer coefficient [W.m-2.K-1]': 10.0,\n",
       " 'Typical current [A]': 0.680616,\n",
       " 'Typical electrolyte concentration [mol.m-3]': 1000.0,\n",
       " 'Upper voltage cut-off [V]': 4.1,\n",
       " 'citations': ['Marquis2019']}"
      ]
     },
     "execution_count": 10,
     "metadata": {},
     "output_type": "execute_result"
    }
   ],
   "source": [
    "parameter_values"
   ]
  },
  {
   "cell_type": "code",
   "execution_count": 11,
   "id": "981a38f1",
   "metadata": {},
   "outputs": [],
   "source": [
    "# How to set initialization as uniform Li-ion concentration in particles and electrolyte?\n",
    "# initial_soc = 1\n",
    "\n",
    "# c_n_init = parameter_values[\"Maximum concentration in negative electrode [mol.m-3]\"]\n",
    "# c_p_init = parameter_values[\"Maximum concentration in positive electrode [mol.m-3]\"]\n",
    "# parameter_values[\"Initial concentration in negative electrode [mol.m-3]\"] = c_n_init * initial_soc\n",
    "# parameter_values[\"Initial concentration in positive electrode [mol.m-3]\"] = c_p_init * initial_soc"
   ]
  },
  {
   "cell_type": "code",
   "execution_count": 12,
   "id": "1488548d",
   "metadata": {},
   "outputs": [
    {
     "data": {
      "text/plain": [
       "0.680616"
      ]
     },
     "execution_count": 12,
     "metadata": {},
     "output_type": "execute_result"
    }
   ],
   "source": [
    "Imax"
   ]
  },
  {
   "cell_type": "code",
   "execution_count": 13,
   "id": "b62d7e3d",
   "metadata": {},
   "outputs": [],
   "source": [
    "M = 15 \n",
    "t = [100*i for i in range(M + 1)]\n",
    "I_values = [sample_Ij(Imax) for i in range(M + 1)]"
   ]
  },
  {
   "cell_type": "code",
   "execution_count": 14,
   "id": "23fdc1f2",
   "metadata": {},
   "outputs": [
    {
     "data": {
      "text/plain": [
       "[0.08508550855085509,\n",
       " 0.4058238415841584,\n",
       " 0.26873407020702067,\n",
       " 0.09148393879387938,\n",
       " 0.4161021710171017,\n",
       " 0.6262293429342934,\n",
       " 0.23347463546354635,\n",
       " 0.3883302610261026,\n",
       " 0.032740903690369035,\n",
       " 0.34578750675067504,\n",
       " 0.5180005760576057,\n",
       " 0.47361997479747975,\n",
       " 0.08304345634563456,\n",
       " 0.07800639423942395,\n",
       " 0.16601884428442842,\n",
       " 0.015451528352835283]"
      ]
     },
     "execution_count": 14,
     "metadata": {},
     "output_type": "execute_result"
    }
   ],
   "source": [
    "I_values"
   ]
  },
  {
   "cell_type": "code",
   "execution_count": 15,
   "id": "f4d0d4fd",
   "metadata": {},
   "outputs": [
    {
     "data": {
      "text/plain": [
       "Text(0, 0.5, 'Current (A)')"
      ]
     },
     "execution_count": 15,
     "metadata": {},
     "output_type": "execute_result"
    },
    {
     "data": {
      "image/png": "[encoded data removed]",
      "text/plain": [
       "<Figure size 1000x600 with 1 Axes>"
      ]
     },
     "metadata": {},
     "output_type": "display_data"
    }
   ],
   "source": [
    "# Plot current function to check\n",
    "plt.figure(figsize=(10,6))\n",
    "plt.plot(t, I_values, linestyle='--', marker='o')\n",
    "plt.xlabel('Time (s)')\n",
    "plt.ylabel('Current (A)')"
   ]
  },
  {
   "cell_type": "code",
   "execution_count": 16,
   "id": "b41d807a",
   "metadata": {},
   "outputs": [],
   "source": [
    "parameter_values[\"Current function [A]\"] = custom_current(I_values, M)"
   ]
  },
  {
   "cell_type": "markdown",
   "id": "7db1db6d",
   "metadata": {},
   "source": [
    "### Run simulation"
   ]
  },
  {
   "cell_type": "code",
   "execution_count": 17,
   "id": "570361f6",
   "metadata": {},
   "outputs": [],
   "source": [
    "sim = pybamm.Simulation(model, parameter_values=parameter_values)"
   ]
  },
  {
   "cell_type": "code",
   "execution_count": 18,
   "id": "80a785ac",
   "metadata": {},
   "outputs": [
    {
     "data": {
      "text/plain": [
       "{Variable(-0x544716171a6fbfa7, Discharge capacity [A.h], children=[], domains={}): Scalar(0x5d73b3a7dffdff08, 0.0, children=[], domains={}),\n",
       " Variable(-0x60fb51dae02eb403, X-averaged negative particle concentration, children=[], domains={'primary': ['negative particle'], 'secondary': ['current collector']}): XAverage(0x6bf83556ec304e8c, x-average, children=['Initial concentration in negative electrode [mol.m-3] / Maximum concentration in negative electrode [mol.m-3]'], domains={'primary': ['negative particle'], 'secondary': ['current collector']}),\n",
       " Variable(-0x24b8476c7561d4d3, X-averaged positive particle concentration, children=[], domains={'primary': ['positive particle'], 'secondary': ['current collector']}): XAverage(-0x18509efbde8d580f, x-average, children=['Initial concentration in positive electrode [mol.m-3] / Maximum concentration in positive electrode [mol.m-3]'], domains={'primary': ['positive particle'], 'secondary': ['current collector']})}"
      ]
     },
     "execution_count": 18,
     "metadata": {},
     "output_type": "execute_result"
    }
   ],
   "source": [
    "sim.model.initial_conditions"
   ]
  },
  {
   "cell_type": "code",
   "execution_count": 19,
   "id": "7b5a95c7",
   "metadata": {},
   "outputs": [],
   "source": [
    "t_eval = np.linspace(0, 100 * M, M + 1)\n",
    "solution = sim.solve(t_eval=t_eval)"
   ]
  },
  {
   "cell_type": "code",
   "execution_count": 20,
   "id": "25066d21",
   "metadata": {},
   "outputs": [
    {
     "data": {
      "text/plain": [
       "array([   0.,  100.,  200.,  300.,  400.,  500.,  600.,  700.,  800.,\n",
       "        900., 1000., 1100., 1200., 1300., 1400., 1500.])"
      ]
     },
     "execution_count": 20,
     "metadata": {},
     "output_type": "execute_result"
    }
   ],
   "source": [
    "t_eval"
   ]
  },
  {
   "cell_type": "code",
   "execution_count": 21,
   "id": "88225815",
   "metadata": {},
   "outputs": [
    {
     "data": {
      "text/plain": [
       "['Time',\n",
       " 'Time [s]',\n",
       " 'Time [min]',\n",
       " 'Time [h]',\n",
       " 'x',\n",
       " 'x [m]',\n",
       " 'x_n',\n",
       " 'x_n [m]',\n",
       " 'x_s',\n",
       " 'x_s [m]',\n",
       " 'x_p',\n",
       " 'x_p [m]',\n",
       " 'r_n',\n",
       " 'r_n [m]',\n",
       " 'r_p',\n",
       " 'r_p [m]',\n",
       " 'Current density variable',\n",
       " 'Total current density',\n",
       " 'Total current density [A.m-2]',\n",
       " 'Current [A]',\n",
       " 'C-rate',\n",
       " 'Discharge capacity [A.h]',\n",
       " 'Discharge energy [W.h]',\n",
       " 'Throughput energy [W.h]',\n",
       " 'Throughput capacity [A.h]',\n",
       " 'Porosity',\n",
       " 'Negative electrode porosity',\n",
       " 'X-averaged negative electrode porosity',\n",
       " 'Separator porosity',\n",
       " 'X-averaged separator porosity',\n",
       " 'Positive electrode porosity',\n",
       " 'X-averaged positive electrode porosity',\n",
       " 'Porosity change',\n",
       " 'Negative electrode porosity change',\n",
       " 'X-averaged negative electrode porosity change',\n",
       " 'Separator porosity change',\n",
       " 'X-averaged separator porosity change',\n",
       " 'Positive electrode porosity change',\n",
       " 'X-averaged positive electrode porosity change',\n",
       " 'Negative electrode interface utilisation variable',\n",
       " 'X-averaged negative electrode interface utilisation variable',\n",
       " 'Negative electrode interface utilisation',\n",
       " 'X-averaged negative electrode interface utilisation',\n",
       " 'Positive electrode interface utilisation variable',\n",
       " 'X-averaged positive electrode interface utilisation variable',\n",
       " 'Positive electrode interface utilisation',\n",
       " 'X-averaged positive electrode interface utilisation',\n",
       " 'Negative particle crack length [m]',\n",
       " 'Negative particle crack length',\n",
       " 'X-averaged negative particle crack length',\n",
       " 'X-averaged negative particle crack length [m]',\n",
       " 'Negative particle cracking rate',\n",
       " 'X-averaged negative particle cracking rate',\n",
       " 'Positive particle crack length [m]',\n",
       " 'Positive particle crack length',\n",
       " 'X-averaged positive particle crack length',\n",
       " 'X-averaged positive particle crack length [m]',\n",
       " 'Positive particle cracking rate',\n",
       " 'X-averaged positive particle cracking rate',\n",
       " 'Negative electrode active material volume fraction',\n",
       " 'X-averaged negative electrode active material volume fraction',\n",
       " 'Negative electrode capacity [A.h]',\n",
       " 'Negative particle radius',\n",
       " 'Negative particle radius [m]',\n",
       " 'Negative electrode surface area to volume ratio',\n",
       " 'Negative electrode surface area to volume ratio [m-1]',\n",
       " 'X-averaged negative electrode surface area to volume ratio',\n",
       " 'X-averaged negative electrode surface area to volume ratio [m-1]',\n",
       " 'Negative electrode active material volume fraction change',\n",
       " 'X-averaged negative electrode active material volume fraction change',\n",
       " 'Loss of lithium due to loss of active material in negative electrode [mol]',\n",
       " 'Positive electrode active material volume fraction',\n",
       " 'X-averaged positive electrode active material volume fraction',\n",
       " 'Positive electrode capacity [A.h]',\n",
       " 'Positive particle radius',\n",
       " 'Positive particle radius [m]',\n",
       " 'Positive electrode surface area to volume ratio',\n",
       " 'Positive electrode surface area to volume ratio [m-1]',\n",
       " 'X-averaged positive electrode surface area to volume ratio',\n",
       " 'X-averaged positive electrode surface area to volume ratio [m-1]',\n",
       " 'Positive electrode active material volume fraction change',\n",
       " 'X-averaged positive electrode active material volume fraction change',\n",
       " 'Loss of lithium due to loss of active material in positive electrode [mol]',\n",
       " 'Separator pressure',\n",
       " 'X-averaged separator pressure',\n",
       " 'negative electrode transverse volume-averaged velocity',\n",
       " 'negative electrode transverse volume-averaged velocity [m.s-1]',\n",
       " 'X-averaged negative electrode transverse volume-averaged velocity',\n",
       " 'X-averaged negative electrode transverse volume-averaged velocity [m.s-1]',\n",
       " 'separator transverse volume-averaged velocity',\n",
       " 'separator transverse volume-averaged velocity [m.s-1]',\n",
       " 'X-averaged separator transverse volume-averaged velocity',\n",
       " 'X-averaged separator transverse volume-averaged velocity [m.s-1]',\n",
       " 'positive electrode transverse volume-averaged velocity',\n",
       " 'positive electrode transverse volume-averaged velocity [m.s-1]',\n",
       " 'X-averaged positive electrode transverse volume-averaged velocity',\n",
       " 'X-averaged positive electrode transverse volume-averaged velocity [m.s-1]',\n",
       " 'Transverse volume-averaged velocity',\n",
       " 'Transverse volume-averaged velocity [m.s-1]',\n",
       " 'negative electrode transverse volume-averaged acceleration',\n",
       " 'negative electrode transverse volume-averaged acceleration [m.s-2]',\n",
       " 'X-averaged negative electrode transverse volume-averaged acceleration',\n",
       " 'X-averaged negative electrode transverse volume-averaged acceleration [m.s-2]',\n",
       " 'separator transverse volume-averaged acceleration',\n",
       " 'separator transverse volume-averaged acceleration [m.s-2]',\n",
       " 'X-averaged separator transverse volume-averaged acceleration',\n",
       " 'X-averaged separator transverse volume-averaged acceleration [m.s-2]',\n",
       " 'positive electrode transverse volume-averaged acceleration',\n",
       " 'positive electrode transverse volume-averaged acceleration [m.s-2]',\n",
       " 'X-averaged positive electrode transverse volume-averaged acceleration',\n",
       " 'X-averaged positive electrode transverse volume-averaged acceleration [m.s-2]',\n",
       " 'Transverse volume-averaged acceleration',\n",
       " 'Transverse volume-averaged acceleration [m.s-2]',\n",
       " 'Negative electrode volume-averaged velocity',\n",
       " 'Negative electrode volume-averaged velocity [m.s-1]',\n",
       " 'Negative electrode volume-averaged acceleration',\n",
       " 'Negative electrode volume-averaged acceleration [m.s-1]',\n",
       " 'X-averaged negative electrode volume-averaged acceleration',\n",
       " 'X-averaged negative electrode volume-averaged acceleration [m.s-1]',\n",
       " 'Negative electrode pressure',\n",
       " 'X-averaged negative electrode pressure',\n",
       " 'Positive electrode volume-averaged velocity',\n",
       " 'Positive electrode volume-averaged velocity [m.s-1]',\n",
       " 'Positive electrode volume-averaged acceleration',\n",
       " 'Positive electrode volume-averaged acceleration [m.s-1]',\n",
       " 'X-averaged positive electrode volume-averaged acceleration',\n",
       " 'X-averaged positive electrode volume-averaged acceleration [m.s-1]',\n",
       " 'Positive electrode pressure',\n",
       " 'X-averaged positive electrode pressure',\n",
       " 'Negative particle concentration',\n",
       " 'Negative particle concentration [mol.m-3]',\n",
       " 'X-averaged negative particle concentration',\n",
       " 'X-averaged negative particle concentration [mol.m-3]',\n",
       " 'R-averaged negative particle concentration',\n",
       " 'R-averaged negative particle concentration [mol.m-3]',\n",
       " 'Average negative particle concentration',\n",
       " 'Average negative particle concentration [mol.m-3]',\n",
       " 'Negative particle surface concentration',\n",
       " 'Negative particle surface concentration [mol.m-3]',\n",
       " 'X-averaged negative particle surface concentration',\n",
       " 'X-averaged negative particle surface concentration [mol.m-3]',\n",
       " 'Negative electrode extent of lithiation',\n",
       " 'X-averaged negative electrode extent of lithiation',\n",
       " 'Minimum negative particle concentration',\n",
       " 'Maximum negative particle concentration',\n",
       " 'Minimum negative particle concentration [mol.m-3]',\n",
       " 'Maximum negative particle concentration [mol.m-3]',\n",
       " 'Minimum negative particle surface concentration',\n",
       " 'Maximum negative particle surface concentration',\n",
       " 'Minimum negative particle surface concentration [mol.m-3]',\n",
       " 'Maximum negative particle surface concentration [mol.m-3]',\n",
       " 'Positive particle concentration',\n",
       " 'Positive particle concentration [mol.m-3]',\n",
       " 'X-averaged positive particle concentration',\n",
       " 'X-averaged positive particle concentration [mol.m-3]',\n",
       " 'R-averaged positive particle concentration',\n",
       " 'R-averaged positive particle concentration [mol.m-3]',\n",
       " 'Average positive particle concentration',\n",
       " 'Average positive particle concentration [mol.m-3]',\n",
       " 'Positive particle surface concentration',\n",
       " 'Positive particle surface concentration [mol.m-3]',\n",
       " 'X-averaged positive particle surface concentration',\n",
       " 'X-averaged positive particle surface concentration [mol.m-3]',\n",
       " 'Positive electrode extent of lithiation',\n",
       " 'X-averaged positive electrode extent of lithiation',\n",
       " 'Minimum positive particle concentration',\n",
       " 'Maximum positive particle concentration',\n",
       " 'Minimum positive particle concentration [mol.m-3]',\n",
       " 'Maximum positive particle concentration [mol.m-3]',\n",
       " 'Minimum positive particle surface concentration',\n",
       " 'Maximum positive particle surface concentration',\n",
       " 'Minimum positive particle surface concentration [mol.m-3]',\n",
       " 'Maximum positive particle surface concentration [mol.m-3]',\n",
       " 'Porosity times concentration',\n",
       " 'Negative electrode porosity times concentration',\n",
       " 'Separator porosity times concentration',\n",
       " 'Positive electrode porosity times concentration',\n",
       " 'Total lithium in electrolyte',\n",
       " 'Total lithium in electrolyte [mol]',\n",
       " 'Electrolyte flux',\n",
       " 'Electrolyte flux [mol.m-2.s-1]',\n",
       " 'Ambient temperature',\n",
       " 'Cell temperature',\n",
       " 'Negative current collector temperature',\n",
       " 'Positive current collector temperature',\n",
       " 'X-averaged cell temperature',\n",
       " 'Volume-averaged cell temperature',\n",
       " 'Negative electrode temperature',\n",
       " 'X-averaged negative electrode temperature',\n",
       " 'Separator temperature',\n",
       " 'X-averaged separator temperature',\n",
       " 'Positive electrode temperature',\n",
       " 'X-averaged positive electrode temperature',\n",
       " 'Ambient temperature [K]',\n",
       " 'Ambient temperature [C]',\n",
       " 'Cell temperature [K]',\n",
       " 'Cell temperature [C]',\n",
       " 'Negative current collector temperature [K]',\n",
       " 'Negative current collector temperature [C]',\n",
       " 'Positive current collector temperature [K]',\n",
       " 'Positive current collector temperature [C]',\n",
       " 'X-averaged cell temperature [K]',\n",
       " 'X-averaged cell temperature [C]',\n",
       " 'Volume-averaged cell temperature [K]',\n",
       " 'Volume-averaged cell temperature [C]',\n",
       " 'Negative electrode temperature [K]',\n",
       " 'Negative electrode temperature [C]',\n",
       " 'X-averaged negative electrode temperature [K]',\n",
       " 'X-averaged negative electrode temperature [C]',\n",
       " 'Separator temperature [K]',\n",
       " 'Separator temperature [C]',\n",
       " 'X-averaged separator temperature [K]',\n",
       " 'X-averaged separator temperature [C]',\n",
       " 'Positive electrode temperature [K]',\n",
       " 'Positive electrode temperature [C]',\n",
       " 'X-averaged positive electrode temperature [K]',\n",
       " 'X-averaged positive electrode temperature [C]',\n",
       " 'Negative current collector potential',\n",
       " 'Negative current collector potential [V]',\n",
       " 'Inner SEI thickness',\n",
       " 'Inner SEI thickness [m]',\n",
       " 'Outer SEI thickness',\n",
       " 'Outer SEI thickness [m]',\n",
       " 'X-averaged inner SEI thickness',\n",
       " 'X-averaged inner SEI thickness [m]',\n",
       " 'X-averaged outer SEI thickness',\n",
       " 'X-averaged outer SEI thickness [m]',\n",
       " 'SEI thickness',\n",
       " 'SEI [m]',\n",
       " 'Total SEI thickness',\n",
       " 'Total SEI thickness [m]',\n",
       " 'X-averaged SEI thickness',\n",
       " 'X-averaged SEI thickness [m]',\n",
       " 'X-averaged total SEI thickness',\n",
       " 'X-averaged total SEI thickness [m]',\n",
       " 'X-averaged negative electrode resistance [Ohm.m2]',\n",
       " 'Inner SEI interfacial current density',\n",
       " 'Inner SEI interfacial current density [A.m-2]',\n",
       " 'X-averaged inner SEI interfacial current density',\n",
       " 'X-averaged inner SEI interfacial current density [A.m-2]',\n",
       " 'Outer SEI interfacial current density',\n",
       " 'Outer SEI interfacial current density [A.m-2]',\n",
       " 'X-averaged outer SEI interfacial current density',\n",
       " 'X-averaged outer SEI interfacial current density [A.m-2]',\n",
       " 'SEI interfacial current density',\n",
       " 'SEI interfacial current density [A.m-2]',\n",
       " 'X-averaged SEI interfacial current density',\n",
       " 'X-averaged SEI interfacial current density [A.m-2]',\n",
       " 'Inner SEI on cracks thickness',\n",
       " 'Inner SEI on cracks thickness [m]',\n",
       " 'Outer SEI on cracks thickness',\n",
       " 'Outer SEI on cracks thickness [m]',\n",
       " 'X-averaged inner SEI on cracks thickness',\n",
       " 'X-averaged inner SEI on cracks thickness [m]',\n",
       " 'X-averaged outer SEI on cracks thickness',\n",
       " 'X-averaged outer SEI on cracks thickness [m]',\n",
       " 'SEI on cracks thickness',\n",
       " 'SEI on cracks [m]',\n",
       " 'Total SEI on cracks thickness',\n",
       " 'Total SEI on cracks thickness [m]',\n",
       " 'X-averaged SEI on cracks thickness',\n",
       " 'X-averaged SEI on cracks thickness [m]',\n",
       " 'X-averaged total SEI on cracks thickness',\n",
       " 'X-averaged total SEI on cracks thickness [m]',\n",
       " 'Inner SEI on cracks interfacial current density',\n",
       " 'Inner SEI on cracks interfacial current density [A.m-2]',\n",
       " 'X-averaged inner SEI on cracks interfacial current density',\n",
       " 'X-averaged inner SEI on cracks interfacial current density [A.m-2]',\n",
       " 'Outer SEI on cracks interfacial current density',\n",
       " 'Outer SEI on cracks interfacial current density [A.m-2]',\n",
       " 'X-averaged outer SEI on cracks interfacial current density',\n",
       " 'X-averaged outer SEI on cracks interfacial current density [A.m-2]',\n",
       " 'SEI on cracks interfacial current density',\n",
       " 'SEI on cracks interfacial current density [A.m-2]',\n",
       " 'X-averaged SEI on cracks interfacial current density',\n",
       " 'X-averaged SEI on cracks interfacial current density [A.m-2]',\n",
       " 'Lithium plating concentration',\n",
       " 'Lithium plating concentration [mol.m-3]',\n",
       " 'X-averaged lithium plating concentration',\n",
       " 'X-averaged lithium plating concentration [mol.m-3]',\n",
       " 'Dead lithium concentration',\n",
       " 'Dead lithium concentration [mol.m-3]',\n",
       " 'X-averaged dead lithium concentration',\n",
       " 'X-averaged dead lithium concentration [mol.m-3]',\n",
       " 'Lithium plating thickness',\n",
       " 'Lithium plating thickness [m]',\n",
       " 'X-averaged lithium plating thickness [m]',\n",
       " 'Dead lithium thickness',\n",
       " 'Dead lithium thickness [m]',\n",
       " 'X-averaged dead lithium thickness [m]',\n",
       " 'Loss of lithium to lithium plating [mol]',\n",
       " 'Loss of capacity to lithium plating [A.h]',\n",
       " 'Negative electrode lithium plating reaction overpotential',\n",
       " 'X-averaged negative electrode lithium plating reaction overpotential',\n",
       " 'Negative electrode lithium plating reaction overpotential [V]',\n",
       " 'X-averaged negative electrode lithium plating reaction overpotential [V]',\n",
       " 'Lithium plating interfacial current density',\n",
       " 'Lithium plating interfacial current density [A.m-2]',\n",
       " 'X-averaged lithium plating interfacial current density',\n",
       " 'X-averaged lithium plating interfacial current density [A.m-2]',\n",
       " 'Negative crack surface to volume ratio [m-1]',\n",
       " 'Negative crack surface to volume ratio',\n",
       " 'Negative electrode roughness ratio',\n",
       " 'X-averaged negative electrode roughness ratio',\n",
       " 'Positive crack surface to volume ratio [m-1]',\n",
       " 'Positive crack surface to volume ratio',\n",
       " 'Positive electrode roughness ratio',\n",
       " 'X-averaged positive electrode roughness ratio',\n",
       " 'Electrolyte transport efficiency',\n",
       " 'Negative electrolyte transport efficiency',\n",
       " 'X-averaged negative electrolyte transport efficiency',\n",
       " 'Separator electrolyte transport efficiency',\n",
       " 'X-averaged separator electrolyte transport efficiency',\n",
       " 'Positive electrolyte transport efficiency',\n",
       " 'X-averaged positive electrolyte transport efficiency',\n",
       " 'Electrode transport efficiency',\n",
       " 'Negative electrode transport efficiency',\n",
       " 'X-averaged negative electrode transport efficiency',\n",
       " 'Separator electrode transport efficiency',\n",
       " 'X-averaged separator electrode transport efficiency',\n",
       " 'Positive electrode transport efficiency',\n",
       " 'X-averaged positive electrode transport efficiency',\n",
       " 'Separator volume-averaged velocity',\n",
       " 'Separator volume-averaged velocity [m.s-1]',\n",
       " 'Separator volume-averaged acceleration',\n",
       " 'Separator volume-averaged acceleration [m.s-1]',\n",
       " 'X-averaged separator volume-averaged acceleration',\n",
       " 'X-averaged separator volume-averaged acceleration [m.s-1]',\n",
       " 'Volume-averaged velocity',\n",
       " 'Volume-averaged velocity [m.s-1]',\n",
       " 'Volume-averaged acceleration',\n",
       " 'X-averaged volume-averaged acceleration',\n",
       " 'Volume-averaged acceleration [m.s-1]',\n",
       " 'X-averaged volume-averaged acceleration [m.s-1]',\n",
       " 'Pressure',\n",
       " 'Negative electrode open circuit potential',\n",
       " 'Negative electrode open circuit potential [V]',\n",
       " 'X-averaged negative electrode open circuit potential',\n",
       " 'X-averaged negative electrode open circuit potential [V]',\n",
       " 'Negative electrode entropic change',\n",
       " 'Negative electrode entropic change [V.K-1]',\n",
       " 'X-averaged negative electrode entropic change',\n",
       " 'X-averaged negative electrode entropic change [V.K-1]',\n",
       " 'Positive electrode open circuit potential',\n",
       " 'Positive electrode open circuit potential [V]',\n",
       " 'X-averaged positive electrode open circuit potential',\n",
       " 'X-averaged positive electrode open circuit potential [V]',\n",
       " 'Positive electrode entropic change',\n",
       " 'Positive electrode entropic change [V.K-1]',\n",
       " 'X-averaged positive electrode entropic change',\n",
       " 'X-averaged positive electrode entropic change [V.K-1]',\n",
       " 'Electrolyte concentration concatenation',\n",
       " 'Negative electrolyte concentration',\n",
       " 'X-averaged negative electrolyte concentration',\n",
       " 'Separator electrolyte concentration',\n",
       " 'X-averaged separator electrolyte concentration',\n",
       " 'Positive electrolyte concentration',\n",
       " 'X-averaged positive electrolyte concentration',\n",
       " 'Negative electrolyte concentration [mol.m-3]',\n",
       " 'Negative electrolyte concentration [Molar]',\n",
       " 'X-averaged negative electrolyte concentration [mol.m-3]',\n",
       " 'X-averaged negative electrolyte concentration [Molar]',\n",
       " 'Separator electrolyte concentration [mol.m-3]',\n",
       " 'Separator electrolyte concentration [Molar]',\n",
       " 'X-averaged separator electrolyte concentration [mol.m-3]',\n",
       " 'X-averaged separator electrolyte concentration [Molar]',\n",
       " 'Positive electrolyte concentration [mol.m-3]',\n",
       " 'Positive electrolyte concentration [Molar]',\n",
       " 'X-averaged positive electrolyte concentration [mol.m-3]',\n",
       " 'X-averaged positive electrolyte concentration [Molar]',\n",
       " 'Electrolyte concentration',\n",
       " 'X-averaged electrolyte concentration',\n",
       " 'Electrolyte concentration [mol.m-3]',\n",
       " 'Electrolyte concentration [Molar]',\n",
       " 'X-averaged electrolyte concentration [mol.m-3]',\n",
       " 'X-averaged electrolyte concentration [Molar]',\n",
       " 'Ohmic heating',\n",
       " 'Ohmic heating [W.m-3]',\n",
       " 'X-averaged Ohmic heating',\n",
       " 'X-averaged Ohmic heating [W.m-3]',\n",
       " 'Volume-averaged Ohmic heating',\n",
       " 'Volume-averaged Ohmic heating [W.m-3]',\n",
       " 'Irreversible electrochemical heating',\n",
       " 'Irreversible electrochemical heating [W.m-3]',\n",
       " 'X-averaged irreversible electrochemical heating',\n",
       " 'X-averaged irreversible electrochemical heating [W.m-3]',\n",
       " 'Volume-averaged irreversible electrochemical heating',\n",
       " 'Volume-averaged irreversible electrochemical heating [W.m-3]',\n",
       " 'Reversible heating',\n",
       " 'Reversible heating [W.m-3]',\n",
       " 'X-averaged reversible heating',\n",
       " 'X-averaged reversible heating [W.m-3]',\n",
       " 'Volume-averaged reversible heating',\n",
       " 'Volume-averaged reversible heating [W.m-3]',\n",
       " 'Total heating',\n",
       " 'Total heating [W.m-3]',\n",
       " 'X-averaged total heating',\n",
       " 'X-averaged total heating [W.m-3]',\n",
       " 'Volume-averaged total heating',\n",
       " 'Volume-averaged total heating [W.m-3]',\n",
       " 'Current collector current density',\n",
       " 'Current collector current density [A.m-2]',\n",
       " 'Inner SEI concentration [mol.m-3]',\n",
       " 'X-averaged inner SEI concentration [mol.m-3]',\n",
       " 'Outer SEI concentration [mol.m-3]',\n",
       " 'X-averaged outer SEI concentration [mol.m-3]',\n",
       " 'SEI concentration [mol.m-3]',\n",
       " 'X-averaged SEI concentration [mol.m-3]',\n",
       " 'Loss of lithium to SEI [mol]',\n",
       " 'Loss of capacity to SEI [A.h]',\n",
       " 'X-averaged negative electrode SEI interfacial current density',\n",
       " 'Negative electrode SEI interfacial current density',\n",
       " 'Negative electrode SEI interfacial current density [A.m-2]',\n",
       " 'Negative electrode SEI volumetric interfacial current density',\n",
       " 'X-averaged negative electrode SEI volumetric interfacial current density',\n",
       " 'Negative electrode SEI volumetric interfacial current density [A.m-3]',\n",
       " 'X-averaged negative electrode SEI volumetric interfacial current density [A.m-3]',\n",
       " 'X-averaged positive electrode SEI interfacial current density',\n",
       " 'Positive electrode SEI interfacial current density',\n",
       " 'Positive electrode SEI interfacial current density [A.m-2]',\n",
       " 'X-averaged positive electrode SEI volumetric interfacial current density',\n",
       " 'Positive electrode SEI volumetric interfacial current density',\n",
       " 'Inner SEI on cracks concentration [mol.m-3]',\n",
       " 'X-averaged inner SEI on cracks concentration [mol.m-3]',\n",
       " 'Outer SEI on cracks concentration [mol.m-3]',\n",
       " 'X-averaged outer SEI on cracks concentration [mol.m-3]',\n",
       " 'SEI on cracks concentration [mol.m-3]',\n",
       " 'X-averaged SEI on cracks concentration [mol.m-3]',\n",
       " 'Loss of lithium to SEI on cracks [mol]',\n",
       " 'Loss of capacity to SEI on cracks [A.h]',\n",
       " 'X-averaged negative electrode SEI on cracks interfacial current density',\n",
       " 'Negative electrode SEI on cracks interfacial current density',\n",
       " 'Negative electrode SEI on cracks interfacial current density [A.m-2]',\n",
       " 'Negative electrode SEI on cracks volumetric interfacial current density',\n",
       " 'X-averaged negative electrode SEI on cracks volumetric interfacial current density',\n",
       " 'Negative electrode SEI on cracks volumetric interfacial current density [A.m-3]',\n",
       " 'X-averaged negative electrode SEI on cracks volumetric interfacial current density [A.m-3]',\n",
       " 'X-averaged positive electrode SEI on cracks interfacial current density',\n",
       " 'Positive electrode SEI on cracks interfacial current density',\n",
       " 'Positive electrode SEI on cracks interfacial current density [A.m-2]',\n",
       " 'X-averaged positive electrode SEI on cracks volumetric interfacial current density',\n",
       " 'Positive electrode SEI on cracks volumetric interfacial current density',\n",
       " 'X-averaged negative electrode lithium plating interfacial current density',\n",
       " 'X-averaged positive electrode lithium plating interfacial current density',\n",
       " 'X-averaged positive electrode lithium plating volumetric interfacial current density',\n",
       " 'Negative electrode lithium plating interfacial current density',\n",
       " 'Negative electrode lithium plating interfacial current density [A.m-2]',\n",
       " 'Positive electrode lithium plating interfacial current density',\n",
       " 'Positive electrode lithium plating interfacial current density [A.m-2]',\n",
       " 'Positive electrode lithium plating volumetric interfacial current density',\n",
       " 'Negative electrode lithium plating volumetric interfacial current density',\n",
       " 'X-averaged negative electrode lithium plating volumetric interfacial current density',\n",
       " 'Negative electrode lithium plating volumetric interfacial current density [A.m-3]',\n",
       " 'X-averaged negative electrode lithium plating volumetric interfacial current density [A.m-3]',\n",
       " 'X-averaged negative electrode total interfacial current density',\n",
       " 'X-averaged negative electrode total interfacial current density [A.m-2]',\n",
       " 'X-averaged negative electrode total volumetric interfacial current density',\n",
       " 'X-averaged negative electrode total volumetric interfacial current density [A.m-3]',\n",
       " 'SEI film overpotential',\n",
       " 'X-averaged SEI film overpotential',\n",
       " 'SEI film overpotential [V]',\n",
       " 'X-averaged SEI film overpotential [V]',\n",
       " 'Negative electrode exchange current density',\n",
       " 'X-averaged negative electrode exchange current density',\n",
       " 'Negative electrode exchange current density [A.m-2]',\n",
       " 'X-averaged negative electrode exchange current density [A.m-2]',\n",
       " 'Negative electrode reaction overpotential',\n",
       " 'X-averaged negative electrode reaction overpotential',\n",
       " 'Negative electrode reaction overpotential [V]',\n",
       " 'X-averaged negative electrode reaction overpotential [V]',\n",
       " 'X-averaged negative electrode surface potential difference',\n",
       " 'X-averaged negative electrode surface potential difference [V]',\n",
       " 'Negative electrode interfacial current density',\n",
       " 'X-averaged negative electrode interfacial current density',\n",
       " 'Negative electrode interfacial current density [A.m-2]',\n",
       " 'X-averaged negative electrode interfacial current density [A.m-2]',\n",
       " 'Negative electrode volumetric interfacial current density',\n",
       " 'X-averaged negative electrode volumetric interfacial current density',\n",
       " 'Negative electrode volumetric interfacial current density [A.m-3]',\n",
       " 'X-averaged negative electrode volumetric interfacial current density [A.m-3]',\n",
       " 'X-averaged positive electrode total interfacial current density',\n",
       " 'X-averaged positive electrode total interfacial current density [A.m-2]',\n",
       " 'X-averaged positive electrode total volumetric interfacial current density',\n",
       " 'X-averaged positive electrode total volumetric interfacial current density [A.m-3]',\n",
       " 'Positive electrode exchange current density',\n",
       " 'X-averaged positive electrode exchange current density',\n",
       " 'Positive electrode exchange current density [A.m-2]',\n",
       " 'X-averaged positive electrode exchange current density [A.m-2]',\n",
       " 'Positive electrode reaction overpotential',\n",
       " 'X-averaged positive electrode reaction overpotential',\n",
       " 'Positive electrode reaction overpotential [V]',\n",
       " 'X-averaged positive electrode reaction overpotential [V]',\n",
       " 'X-averaged positive electrode surface potential difference',\n",
       " 'X-averaged positive electrode surface potential difference [V]',\n",
       " 'Positive electrode interfacial current density',\n",
       " 'X-averaged positive electrode interfacial current density',\n",
       " 'Positive electrode interfacial current density [A.m-2]',\n",
       " 'X-averaged positive electrode interfacial current density [A.m-2]',\n",
       " 'Positive electrode volumetric interfacial current density',\n",
       " 'X-averaged positive electrode volumetric interfacial current density',\n",
       " 'Positive electrode volumetric interfacial current density [A.m-3]',\n",
       " 'X-averaged positive electrode volumetric interfacial current density [A.m-3]',\n",
       " 'Negative particle rhs',\n",
       " 'Negative particle bc',\n",
       " 'Negative particle effective diffusivity',\n",
       " 'Negative particle effective diffusivity [m2.s-1]',\n",
       " 'X-averaged negative particle effective diffusivity',\n",
       " 'X-averaged negative particle effective diffusivity [m2.s-1]',\n",
       " 'Negative particle flux',\n",
       " 'X-averaged negative particle flux',\n",
       " 'Negative electrode stoichiometry',\n",
       " 'Negative electrode volume-averaged concentration',\n",
       " 'Negative electrode volume-averaged concentration [mol.m-3]',\n",
       " 'Total lithium in primary phase in negative electrode [mol]',\n",
       " 'Positive particle rhs',\n",
       " 'Positive particle bc',\n",
       " 'Positive particle effective diffusivity',\n",
       " 'Positive particle effective diffusivity [m2.s-1]',\n",
       " 'X-averaged positive particle effective diffusivity',\n",
       " 'X-averaged positive particle effective diffusivity [m2.s-1]',\n",
       " 'Positive particle flux',\n",
       " 'X-averaged positive particle flux',\n",
       " 'Positive electrode stoichiometry',\n",
       " 'Positive electrode volume-averaged concentration',\n",
       " 'Positive electrode volume-averaged concentration [mol.m-3]',\n",
       " 'Total lithium in primary phase in positive electrode [mol]',\n",
       " 'Negative electrode potential',\n",
       " 'Negative electrode potential [V]',\n",
       " 'X-averaged negative electrode potential',\n",
       " 'X-averaged negative electrode potential [V]',\n",
       " 'Negative electrode ohmic losses',\n",
       " 'Negative electrode ohmic losses [V]',\n",
       " 'X-averaged negative electrode ohmic losses',\n",
       " 'X-averaged negative electrode ohmic losses [V]',\n",
       " 'Gradient of negative electrode potential',\n",
       " 'Negative electrode current density',\n",
       " 'Negative electrode current density [A.m-2]',\n",
       " 'Electrolyte potential',\n",
       " 'Electrolyte potential [V]',\n",
       " 'X-averaged electrolyte potential',\n",
       " 'X-averaged electrolyte potential [V]',\n",
       " 'X-averaged electrolyte overpotential',\n",
       " 'X-averaged electrolyte overpotential [V]',\n",
       " 'Gradient of electrolyte potential',\n",
       " 'Negative electrolyte potential',\n",
       " 'Negative electrolyte potential [V]',\n",
       " 'X-averaged negative electrolyte potential',\n",
       " 'X-averaged negative electrolyte potential [V]',\n",
       " 'Gradient of negative electrolyte potential',\n",
       " 'Separator electrolyte potential',\n",
       " 'Separator electrolyte potential [V]',\n",
       " 'X-averaged separator electrolyte potential',\n",
       " 'X-averaged separator electrolyte potential [V]',\n",
       " 'Gradient of separator electrolyte potential',\n",
       " 'Positive electrolyte potential',\n",
       " 'Positive electrolyte potential [V]',\n",
       " 'X-averaged positive electrolyte potential',\n",
       " 'X-averaged positive electrolyte potential [V]',\n",
       " 'Gradient of positive electrolyte potential',\n",
       " 'Electrolyte current density',\n",
       " 'Electrolyte current density [A.m-2]',\n",
       " 'Negative electrolyte current density',\n",
       " 'Negative electrolyte current density [A.m-2]',\n",
       " 'Positive electrolyte current density',\n",
       " 'Positive electrolyte current density [A.m-2]',\n",
       " 'X-averaged concentration overpotential',\n",
       " 'X-averaged electrolyte ohmic losses',\n",
       " 'X-averaged concentration overpotential [V]',\n",
       " 'X-averaged electrolyte ohmic losses [V]',\n",
       " 'Negative electrode surface potential difference',\n",
       " 'Negative electrode surface potential difference [V]',\n",
       " 'Sum of negative electrode electrolyte reaction source terms',\n",
       " 'Sum of x-averaged negative electrode electrolyte reaction source terms',\n",
       " 'Sum of negative electrode volumetric interfacial current densities',\n",
       " 'Sum of x-averaged negative electrode volumetric interfacial current densities',\n",
       " 'Sum of positive electrode electrolyte reaction source terms',\n",
       " 'Sum of x-averaged positive electrode electrolyte reaction source terms',\n",
       " 'Sum of positive electrode volumetric interfacial current densities',\n",
       " 'Sum of x-averaged positive electrode volumetric interfacial current densities',\n",
       " 'Interfacial current density',\n",
       " 'Interfacial current density [A.m-2]',\n",
       " 'Exchange current density',\n",
       " 'Exchange current density [A.m-2]',\n",
       " 'Sum of volumetric interfacial current densities',\n",
       " 'Sum of electrolyte reaction source terms',\n",
       " 'Positive electrode potential',\n",
       " 'Positive electrode potential [V]',\n",
       " 'X-averaged positive electrode potential',\n",
       " 'X-averaged positive electrode potential [V]',\n",
       " 'Positive electrode ohmic losses',\n",
       " 'Positive electrode ohmic losses [V]',\n",
       " 'X-averaged positive electrode ohmic losses',\n",
       " 'X-averaged positive electrode ohmic losses [V]',\n",
       " 'Gradient of positive electrode potential',\n",
       " 'Positive electrode current density',\n",
       " 'Positive electrode current density [A.m-2]',\n",
       " 'Electrode current density',\n",
       " 'Positive current collector potential',\n",
       " 'Positive current collector potential [V]',\n",
       " 'Local voltage',\n",
       " 'Local voltage [V]',\n",
       " 'Contact overpotential',\n",
       " 'Contact overpotential [V]',\n",
       " 'Terminal voltage',\n",
       " 'Terminal voltage [V]',\n",
       " 'Positive electrode surface potential difference',\n",
       " 'Positive electrode surface potential difference [V]',\n",
       " 'X-averaged open circuit voltage',\n",
       " 'Measured open circuit voltage',\n",
       " 'X-averaged open circuit voltage [V]',\n",
       " 'Measured open circuit voltage [V]',\n",
       " 'X-averaged reaction overpotential',\n",
       " 'X-averaged reaction overpotential [V]',\n",
       " 'X-averaged solid phase ohmic losses',\n",
       " 'X-averaged solid phase ohmic losses [V]',\n",
       " 'X-averaged battery open circuit voltage [V]',\n",
       " 'Measured battery open circuit voltage [V]',\n",
       " 'X-averaged battery reaction overpotential [V]',\n",
       " 'X-averaged battery solid phase ohmic losses [V]',\n",
       " 'X-averaged battery electrolyte ohmic losses [V]',\n",
       " 'X-averaged battery concentration overpotential [V]',\n",
       " 'Battery voltage [V]',\n",
       " 'Change in measured open circuit voltage',\n",
       " 'Change in measured open circuit voltage [V]',\n",
       " 'Local ECM resistance',\n",
       " 'Local ECM resistance [Ohm]',\n",
       " 'Terminal power [W]',\n",
       " 'Power [W]',\n",
       " 'Resistance [Ohm]',\n",
       " 'Total lithium in negative electrode [mol]',\n",
       " 'LAM_ne [%]',\n",
       " 'Loss of active material in negative electrode [%]',\n",
       " 'Total lithium in positive electrode [mol]',\n",
       " 'LAM_pe [%]',\n",
       " 'Loss of active material in positive electrode [%]',\n",
       " 'LLI [%]',\n",
       " 'Loss of lithium inventory [%]',\n",
       " 'Loss of lithium inventory, including electrolyte [%]',\n",
       " 'Total lithium [mol]',\n",
       " 'Total lithium in particles [mol]',\n",
       " 'Total lithium capacity [A.h]',\n",
       " 'Total lithium capacity in particles [A.h]',\n",
       " 'Total lithium lost [mol]',\n",
       " 'Total lithium lost from particles [mol]',\n",
       " 'Total lithium lost from electrolyte [mol]',\n",
       " 'Total lithium lost to side reactions [mol]',\n",
       " 'Total capacity lost to side reactions [A.h]']"
      ]
     },
     "execution_count": 21,
     "metadata": {},
     "output_type": "execute_result"
    }
   ],
   "source": [
    "model.variable_names()"
   ]
  },
  {
   "cell_type": "code",
   "execution_count": 22,
   "id": "35da3d8c",
   "metadata": {},
   "outputs": [],
   "source": [
    "voltage = solution['Terminal voltage [V]']\n",
    "neg_conc = solution['Negative particle concentration']\n",
    "pos_conc = solution['Positive particle concentration']\n",
    "\n",
    "final_time_idx = -1\n",
    "neg_conc_final = neg_conc.entries[:, final_time_idx]\n",
    "pos_conc_final = neg_conc.entries[:, final_time_idx]\n",
    "\n",
    "#neg_conc_units = solution['Negative particle concentration [mol.m-3]']\n",
    "#pos_conc_units = solution['Positive particle concentration [mol.m-3]']"
   ]
  },
  {
   "cell_type": "code",
   "execution_count": 23,
   "id": "4d291eca",
   "metadata": {},
   "outputs": [
    {
     "data": {
      "text/plain": [
       "array([   0.,  100.,  200.,  300.,  400.,  500.,  600.,  700.,  800.,\n",
       "        900., 1000., 1100., 1200., 1300., 1400., 1500.])"
      ]
     },
     "execution_count": 23,
     "metadata": {},
     "output_type": "execute_result"
    }
   ],
   "source": [
    "solution[\"Time [s]\"].entries"
   ]
  },
  {
   "cell_type": "markdown",
   "id": "ee2b0221",
   "metadata": {},
   "source": [
    "### Visualize"
   ]
  },
  {
   "cell_type": "code",
   "execution_count": 24,
   "id": "cd5fcefe",
   "metadata": {},
   "outputs": [
    {
     "data": {
      "image/png": "[encoded data removed]",
      "text/plain": [
       "<Figure size 1300x400 with 3 Axes>"
      ]
     },
     "metadata": {},
     "output_type": "display_data"
    }
   ],
   "source": [
    "t = solution[\"Time [s]\"].entries\n",
    "x = solution[\"x [m]\"].entries[:, 0]\n",
    "f, (ax1, ax2, ax3) = plt.subplots(1, 3, figsize=(13,4))\n",
    "\n",
    "ax1.plot(t, voltage(t))\n",
    "ax1.set_xlabel(r'$Time [s]$')\n",
    "ax1.set_ylabel('Voltage [V]')\n",
    "\n",
    "ax2.plot(t, neg_conc_final[-1])  # change index to change\n",
    "ax2.set_xlabel(r'$Time [s]$')\n",
    "ax2.set_ylabel('Negative particle concentration')\n",
    "\n",
    "ax3.plot(t, pos_conc_final[-1])  # change index to change x\n",
    "ax3.set_xlabel(r'$Time [s]$')\n",
    "ax3.set_ylabel('Positive particle concentration')\n",
    "\n",
    "plt.tight_layout()\n",
    "plt.show()"
   ]
  },
  {
   "cell_type": "code",
   "execution_count": 25,
   "id": "155472eb",
   "metadata": {},
   "outputs": [
    {
     "name": "stdout",
     "output_type": "stream",
     "text": [
      "Battery did not fail during time window __\n"
     ]
    }
   ],
   "source": [
    "termination_reason = solution.termination\n",
    "\n",
    "if termination_reason == 'event: Minimum voltage' or termination_reason == 'event: Maximum voltage':\n",
    "    print(\"Battery failed during time window __\")\n",
    "else:\n",
    "    print(\"Battery did not fail during time window __\")"
   ]
  },
  {
   "cell_type": "code",
   "execution_count": 26,
   "id": "edde8bc4",
   "metadata": {},
   "outputs": [
    {
     "data": {
      "text/plain": [
       "'final time'"
      ]
     },
     "execution_count": 26,
     "metadata": {},
     "output_type": "execute_result"
    }
   ],
   "source": [
    "solution.termination"
   ]
  },
  {
   "cell_type": "markdown",
   "id": "12dd3e35",
   "metadata": {},
   "source": [
    "Questions:\n",
    "\n",
    "- SPM or SPMe? SPM is good. \n",
    "- What value of Imax to use? Currently set it to value in Current function [A]. That's fine.\n",
    "- Check on battery failure set-up. Is this the way to do it?\n",
    "    - How to model the depletion / failure part?\n",
    "- Do we need to set the initial conditions as outlined in the code?\n",
    "- Output: surface concentration vs concentration?\n",
    "- Keras or pytorch?"
   ]
  },
  {
   "cell_type": "markdown",
   "id": "4b0ae0f0",
   "metadata": {},
   "source": [
    "# Generate training data"
   ]
  },
  {
   "cell_type": "markdown",
   "id": "3701affe",
   "metadata": {},
   "source": [
    "- 15,000 use cycles\n",
    "- M = 15 => each use cycle is 1500 seconds\n",
    "- There are only 165 use cycles in the data set that do not deplete the battery"
   ]
  },
  {
   "cell_type": "code",
   "execution_count": 27,
   "id": "82f8a12c",
   "metadata": {},
   "outputs": [],
   "source": [
    "n_cycles = 15000\n",
    "M = 15"
   ]
  },
  {
   "cell_type": "code",
   "execution_count": 28,
   "id": "c1dbcf71",
   "metadata": {},
   "outputs": [],
   "source": [
    "# Define the triangle probability density function for T\n",
    "def triangle_pdf(I, Imax):\n",
    "    if I < 0 or I > Imax:\n",
    "        return 0\n",
    "    else:\n",
    "        return (Imax - I) / (Imax ** 2)"
   ]
  },
  {
   "cell_type": "code",
   "execution_count": 29,
   "id": "6e18be62",
   "metadata": {},
   "outputs": [],
   "source": [
    "# Sample Ij values from the triangle pdf\n",
    "def sample_Ij(Imax):\n",
    "    I = np.linspace(0, Imax, 10000)\n",
    "    return np.random.choice(I, p=[triangle_pdf(x, Imax) for x in I]/sum([triangle_pdf(x, Imax) for x in I]))"
   ]
  },
  {
   "cell_type": "code",
   "execution_count": 30,
   "id": "1e81dc6f",
   "metadata": {},
   "outputs": [],
   "source": [
    "# Define custom current function\n",
    "def custom_current(I_values, M):\n",
    "    def current(t):\n",
    "        I_piecewise = 0\n",
    "        for j in range(M):\n",
    "            t1, t2 = j * 100, (j + 1) * 100\n",
    "            I1, I2 = I_values[j], I_values[j + 1]\n",
    "            I_current_interval = I1 + (I2 - I1) * (t - t1) / (t2 - t1)\n",
    "        return I_current_interval\n",
    "    return current"
   ]
  },
  {
   "cell_type": "code",
   "execution_count": 31,
   "id": "767687f9",
   "metadata": {},
   "outputs": [],
   "source": [
    "def compute_initial_voltage(model, parameter_values):\n",
    "    sim_temp = pybamm.Simulation(model, parameter_values=parameter_values)\n",
    "    t_eval = np.array([0, 1e-6])\n",
    "    solution_temp = sim_temp.solve(t_eval)\n",
    "    return solution_temp['Terminal voltage [V]'](0)"
   ]
  },
  {
   "cell_type": "code",
   "execution_count": 32,
   "id": "265aaa56",
   "metadata": {},
   "outputs": [],
   "source": [
    "def simulate_cycle(M=15):\n",
    "    # set up model\n",
    "    model = pybamm.lithium_ion.SPM()\n",
    "    parameter_values = model.default_parameter_values\n",
    "    Imax = parameter_values[\"Current function [A]\"]\n",
    "    # set up failure event\n",
    "    V_min = parameter_values['Lower voltage cut-off [V]']\n",
    "    V_max = parameter_values['Upper voltage cut-off [V]']\n",
    "    model.events.append(pybamm.Event('Minimum voltage', \n",
    "                                     model.variables['Terminal voltage [V]'] - V_min, pybamm.EventType.TERMINATION))\n",
    "    model.events.append(pybamm.Event('Maximum voltage', \n",
    "                                     V_max - model.variables['Terminal voltage [V]'], pybamm.EventType.TERMINATION))   \n",
    "    \n",
    "    # set up and run simulation\n",
    "    t_eval = np.linspace(0, 100 * M, (M + 1))\n",
    "    \n",
    "    # custom current with check for valid initial voltage\n",
    "    valid_current = False\n",
    "    while not valid_current:\n",
    "        I_values = [sample_Ij(Imax) for i in range(M + 1)]\n",
    "        parameter_values[\"Current function [A]\"] = custom_current(I_values, M)\n",
    "        try:\n",
    "            initial_voltage = compute_initial_voltage(model, parameter_values)\n",
    "            if V_min < initial_voltage < V_max:\n",
    "                valid_current = True\n",
    "        except:\n",
    "            print(\"\"\"SolverError: Events ['Maximum voltage', 'Maximum voltage'] are \n",
    "                  non-positive at initial conditions\"\"\")\n",
    "            continue\n",
    "    \n",
    "    #I_values = [sample_Ij(Imax) for i in range(M + 1)]\n",
    "    #parameter_values[\"Current function [A]\"] = custom_current(I_values, M)\n",
    "    \n",
    "    sim = pybamm.Simulation(model, parameter_values=parameter_values)\n",
    "    \n",
    "    solution = sim.solve(t_eval=t_eval)\n",
    "    \n",
    "    voltage = solution['Terminal voltage [V]']\n",
    "    neg_conc = solution['Negative particle concentration']\n",
    "    pos_conc = solution['Positive particle concentration']\n",
    "\n",
    "    final_time_idx = -1\n",
    "    neg_conc_final = neg_conc.entries[:, final_time_idx]\n",
    "    pos_conc_final = neg_conc.entries[:, final_time_idx]\n",
    "    \n",
    "    sol_time = solution[\"Time [s]\"]\n",
    "    \n",
    "    failure = False\n",
    "    termination_reason = solution.termination\n",
    "    if termination_reason == 'event: Minimum voltage' or termination_reason == 'event: Maximum voltage':\n",
    "        failure = True\n",
    "    \n",
    "    return voltage, neg_conc, pos_conc, sol_time, failure, termination_reason"
   ]
  },
  {
   "cell_type": "code",
   "execution_count": 33,
   "id": "81010c17",
   "metadata": {},
   "outputs": [],
   "source": [
    "def generate_training_data(n_cycles, M=15):\n",
    "    voltage = []\n",
    "    neg_conc = []\n",
    "    pos_conc = []\n",
    "    solution_time = []\n",
    "    failure = []\n",
    "    termination_reason = []\n",
    "    for i in range(n_cycles):\n",
    "        print(\"starting simulation:\", i)\n",
    "        v, n, p, st, f, t = simulate_cycle(M)\n",
    "        voltage.append(v.entries)\n",
    "        neg_conc.append(n.entries)\n",
    "        pos_conc.append(p.entries)\n",
    "        solution_time.append(st.entries[-1])\n",
    "        failure.append(f)\n",
    "        termination_reason.append(t)\n",
    "    \n",
    "    return voltage, neg_conc, pos_conc, solution_time, failure, termination_reason"
   ]
  },
  {
   "cell_type": "code",
   "execution_count": 34,
   "id": "11e60396",
   "metadata": {},
   "outputs": [],
   "source": [
    "def process_training_data(voltage, neg_conc, pos_conc, solution_time, failure, termination_reason):\n",
    "    for i in range(len(failure)):\n",
    "        if failure[i]:\n",
    "            size = len(voltage[i])\n",
    "            diff = 16 - size\n",
    "            voltage_padded = np.pad(voltage[i], (0, diff), 'constant')\n",
    "            neg_conc_padded = np.pad(neg_conc[i], [(0, 0), (0, 0), (0, diff)], 'constant')\n",
    "            pos_conc_padded = np.pad(pos_conc[i], [(0, 0), (0, 0), (0, diff)], 'constant')\n",
    "            voltage[i] = voltage_padded\n",
    "            neg_conc[i] = neg_conc_padded\n",
    "            pos_conc[i] = pos_conc_padded\n",
    "    return voltage, neg_conc, pos_conc, solution_time, failure, termination_reason"
   ]
  },
  {
   "cell_type": "code",
   "execution_count": 35,
   "id": "4953cacf",
   "metadata": {},
   "outputs": [],
   "source": [
    "from tempfile import TemporaryFile\n",
    "\n",
    "def save_to_disk(voltage, neg_conc, pos_conc, solution_time, failure, termination_reason, name=\"batch0\"):\n",
    "    metadata = pd.DataFrame({'solution_time': solution_time, \n",
    "                             'failure': failure, \n",
    "                             'termination_reason': termination_reason})\n",
    "    metadata.to_csv(name + \".csv\")\n",
    "    \n",
    "    outfile = TemporaryFile()\n",
    "    np.savez(name + \"np\", voltage=voltage, neg_conc=neg_conc, pos_conc=pos_conc)"
   ]
  },
  {
   "cell_type": "code",
   "execution_count": 46,
   "id": "9714f9bb",
   "metadata": {},
   "outputs": [],
   "source": [
    "voltage, neg_conc, pos_conc, solution_time, failure, termination_reason = generate_training_data(5, 15)"
   ]
  },
  {
   "cell_type": "code",
   "execution_count": 44,
   "id": "625bbb8f",
   "metadata": {},
   "outputs": [],
   "source": [
    "voltage_p, neg_conc_p, pos_conc_p, solution_time_p, failure_p, termination_reason_p = process_training_data(voltage,\n",
    "                                                                                               neg_conc,\n",
    "                                                                                               pos_conc,\n",
    "                                                                                               solution_time,\n",
    "                                                                                               failure,\n",
    "                                                                                               termination_reason)"
   ]
  },
  {
   "cell_type": "code",
   "execution_count": 45,
   "id": "18633811",
   "metadata": {},
   "outputs": [],
   "source": [
    "save_to_disk(voltage_p, neg_conc_p, pos_conc_p, solution_time_p, failure_p, termination_reason_p, name=\"batch0\")"
   ]
  },
  {
   "cell_type": "code",
   "execution_count": 42,
   "id": "b9bebb39",
   "metadata": {},
   "outputs": [],
   "source": [
    "# run the script to generate data for 15000 use cycles in batches of 1000\n",
    "for i in range(15):\n",
    "    print(\"BATCH #\" + str(i))\n",
    "    voltage, neg_conc, pos_conc, solution_time, failure, termination_reason = generate_training_data(1000, 15)\n",
    "    voltage_p, neg_conc_p, pos_conc_p, solution_time_p, failure_p, termination_reason_p = process_training_data(\n",
    "        voltage,\n",
    "        neg_conc,\n",
    "        pos_conc,\n",
    "        solution_time,\n",
    "        failure,\n",
    "        termination_reason)\n",
    "    \n",
    "    save_to_disk(voltage_p, \n",
    "                 neg_conc_p, \n",
    "                 pos_conc_p, \n",
    "                 solution_time_p, \n",
    "                 failure_p, \n",
    "                 termination_reason_p, \n",
    "                 name=\"batch\" + str(i))"
   ]
  },
  {
   "cell_type": "code",
   "execution_count": null,
   "id": "4075b4cb",
   "metadata": {},
   "outputs": [],
   "source": []
  },
  {
   "cell_type": "markdown",
   "id": "701a79ad",
   "metadata": {},
   "source": [
    "# Check training data"
   ]
  },
  {
   "cell_type": "code",
   "execution_count": 68,
   "id": "ff535906",
   "metadata": {},
   "outputs": [],
   "source": [
    "def check_failure():\n",
    "    times = []\n",
    "    num_failure = 0\n",
    "    for i in range(15):\n",
    "        df = pd.read_csv(f\"batch{i}.csv\")\n",
    "        num_failure = num_failure + (1000 - df['failure'].sum())\n",
    "        times.append(df[\"solution_time\"].tolist())\n",
    "    return num_failure, times"
   ]
  },
  {
   "cell_type": "code",
   "execution_count": 69,
   "id": "66553fab",
   "metadata": {},
   "outputs": [],
   "source": [
    "num_failure, times = check_failure()"
   ]
  },
  {
   "cell_type": "code",
   "execution_count": 72,
   "id": "1c00fa6b",
   "metadata": {},
   "outputs": [],
   "source": [
    "def flatten(l):\n",
    "    return [item for sublist in l for item in sublist]"
   ]
  },
  {
   "cell_type": "code",
   "execution_count": 73,
   "id": "00e2b14e",
   "metadata": {},
   "outputs": [],
   "source": [
    "cycle_times = flatten(times)"
   ]
  },
  {
   "cell_type": "code",
   "execution_count": 78,
   "id": "a83f053e",
   "metadata": {},
   "outputs": [
    {
     "data": {
      "text/plain": [
       "<AxesSubplot:ylabel='Count'>"
      ]
     },
     "execution_count": 78,
     "metadata": {},
     "output_type": "execute_result"
    },
    {
     "data": {
      "image/png": "[encoded data removed]",
      "text/plain": [
       "<Figure size 640x480 with 1 Axes>"
      ]
     },
     "metadata": {},
     "output_type": "display_data"
    }
   ],
   "source": [
    "import seaborn as sns\n",
    "\n",
    "sns.histplot(data=cycle_times, bins=6)"
   ]
  },
  {
   "cell_type": "markdown",
   "id": "6bb84f30",
   "metadata": {},
   "source": [
    "Data distribution is totally off...need to fix and re-simulate"
   ]
  },
  {
   "cell_type": "code",
   "execution_count": null,
   "id": "298e461d",
   "metadata": {},
   "outputs": [],
   "source": []
  }
 ],
 "metadata": {
  "kernelspec": {
   "display_name": "Python 3 (ipykernel)",
   "language": "python",
   "name": "python3"
  },
  "language_info": {
   "codemirror_mode": {
    "name": "ipython",
    "version": 3
   },
   "file_extension": ".py",
   "mimetype": "text/x-python",
   "name": "python",
   "nbconvert_exporter": "python",
   "pygments_lexer": "ipython3",
   "version": "3.9.13"
  }
 },
 "nbformat": 4,
 "nbformat_minor": 5
}
